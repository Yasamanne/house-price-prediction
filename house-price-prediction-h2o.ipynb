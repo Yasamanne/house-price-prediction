{
 "cells": [
  {
   "cell_type": "code",
   "execution_count": 1,
   "id": "c6c05ceb-70c6-461e-bd09-69a8d66e7857",
   "metadata": {
    "execution": {
     "iopub.execute_input": "2022-03-18T22:13:56.190466Z",
     "iopub.status.busy": "2022-03-18T22:13:56.188565Z",
     "iopub.status.idle": "2022-03-18T22:13:56.206061Z",
     "shell.execute_reply": "2022-03-18T22:13:56.203156Z",
     "shell.execute_reply.started": "2022-03-18T22:13:56.190341Z"
    }
   },
   "outputs": [],
   "source": [
    "__author__ = \"Yasaman Emami\"\n",
    "__email__ = [\"emami.yasamann@gmail.com\", \"yasaman.emami@sjsu.edu\"]"
   ]
  },
  {
   "cell_type": "code",
   "execution_count": 2,
   "id": "7010bd6f-c3a6-4a4d-a604-220c166b6c23",
   "metadata": {
    "execution": {
     "iopub.execute_input": "2022-03-18T22:13:56.864657Z",
     "iopub.status.busy": "2022-03-18T22:13:56.864026Z",
     "iopub.status.idle": "2022-03-18T22:13:57.566595Z",
     "shell.execute_reply": "2022-03-18T22:13:57.565461Z",
     "shell.execute_reply.started": "2022-03-18T22:13:56.864622Z"
    },
    "tags": []
   },
   "outputs": [],
   "source": [
    "import pandas as pd\n",
    "import numpy as np\n",
    "\n",
    "data_url = \"http://lib.stat.cmu.edu/datasets/boston\"\n",
    "raw_df = pd.read_csv(data_url, sep=\"\\s+\", skiprows=22, header=None, index_col=False)\n",
    "\n",
    "data = np.hstack([raw_df.values[::2, :], raw_df.values[1::2, :2]])\n",
    "df = pd.DataFrame(data, columns = [\"CRIM\", \"ZN\", \"INDUS\", \"CHAS\", \"NOX\", \"RM\", \"AGE\", \"DIS\", \"RAD\", \"TAX\", \"PTRATIO\", \"B\", \"LSTAT\"])\n",
    "target = raw_df.values[1::2, 2]\n",
    "df[\"MEDV\"] = target"
   ]
  },
  {
   "cell_type": "code",
   "execution_count": 3,
   "id": "052f78b0-63d1-4f90-b21d-2f8d5bf8c92d",
   "metadata": {
    "execution": {
     "iopub.execute_input": "2022-03-18T22:13:58.537835Z",
     "iopub.status.busy": "2022-03-18T22:13:58.536894Z",
     "iopub.status.idle": "2022-03-18T22:13:58.827670Z",
     "shell.execute_reply": "2022-03-18T22:13:58.826666Z",
     "shell.execute_reply.started": "2022-03-18T22:13:58.537771Z"
    },
    "tags": []
   },
   "outputs": [],
   "source": [
    "import h2o"
   ]
  },
  {
   "cell_type": "code",
   "execution_count": 4,
   "id": "1d5fc342-0768-4553-a34a-bdef8c289588",
   "metadata": {
    "execution": {
     "iopub.execute_input": "2022-03-18T22:13:59.759575Z",
     "iopub.status.busy": "2022-03-18T22:13:59.758950Z",
     "iopub.status.idle": "2022-03-18T22:14:04.478705Z",
     "shell.execute_reply": "2022-03-18T22:14:04.477686Z",
     "shell.execute_reply.started": "2022-03-18T22:13:59.759543Z"
    },
    "tags": []
   },
   "outputs": [
    {
     "name": "stdout",
     "output_type": "stream",
     "text": [
      "Checking whether there is an H2O instance running at http://localhost:54321 ..... not found.\n",
      "Attempting to start a local H2O server...\n",
      "  Java Version: java version \"1.8.0_211\"; Java(TM) SE Runtime Environment (build 1.8.0_211-b12); Java HotSpot(TM) 64-Bit Server VM (build 25.211-b12, mixed mode)\n",
      "  Starting server from /Users/yasamanemami/Documents/DATA-245 Sec 22 - Machine Learning/lib/python3.9/site-packages/h2o/backend/bin/h2o.jar\n",
      "  Ice root: /var/folders/zj/spcsc56s579cl_l9rxnsxv0m0000gq/T/tmp2j60y4xk\n",
      "  JVM stdout: /var/folders/zj/spcsc56s579cl_l9rxnsxv0m0000gq/T/tmp2j60y4xk/h2o_yasamanemami_started_from_python.out\n",
      "  JVM stderr: /var/folders/zj/spcsc56s579cl_l9rxnsxv0m0000gq/T/tmp2j60y4xk/h2o_yasamanemami_started_from_python.err\n",
      "  Server is running at http://127.0.0.1:54321\n",
      "Connecting to H2O server at http://127.0.0.1:54321 ... successful.\n"
     ]
    },
    {
     "data": {
      "text/html": [
       "<div style=\"overflow:auto\"><table style=\"width:50%\"><tr><td>H2O_cluster_uptime:</td>\n",
       "<td>02 secs</td></tr>\n",
       "<tr><td>H2O_cluster_timezone:</td>\n",
       "<td>America/Los_Angeles</td></tr>\n",
       "<tr><td>H2O_data_parsing_timezone:</td>\n",
       "<td>UTC</td></tr>\n",
       "<tr><td>H2O_cluster_version:</td>\n",
       "<td>3.36.0.3</td></tr>\n",
       "<tr><td>H2O_cluster_version_age:</td>\n",
       "<td>1 month and 1 day </td></tr>\n",
       "<tr><td>H2O_cluster_name:</td>\n",
       "<td>H2O_from_python_yasamanemami_95ts5y</td></tr>\n",
       "<tr><td>H2O_cluster_total_nodes:</td>\n",
       "<td>1</td></tr>\n",
       "<tr><td>H2O_cluster_free_memory:</td>\n",
       "<td>3.556 Gb</td></tr>\n",
       "<tr><td>H2O_cluster_total_cores:</td>\n",
       "<td>8</td></tr>\n",
       "<tr><td>H2O_cluster_allowed_cores:</td>\n",
       "<td>8</td></tr>\n",
       "<tr><td>H2O_cluster_status:</td>\n",
       "<td>locked, healthy</td></tr>\n",
       "<tr><td>H2O_connection_url:</td>\n",
       "<td>http://127.0.0.1:54321</td></tr>\n",
       "<tr><td>H2O_connection_proxy:</td>\n",
       "<td>{\"http\": null, \"https\": null}</td></tr>\n",
       "<tr><td>H2O_internal_security:</td>\n",
       "<td>False</td></tr>\n",
       "<tr><td>Python_version:</td>\n",
       "<td>3.9.6 final</td></tr></table></div>"
      ],
      "text/plain": [
       "--------------------------  -----------------------------------\n",
       "H2O_cluster_uptime:         02 secs\n",
       "H2O_cluster_timezone:       America/Los_Angeles\n",
       "H2O_data_parsing_timezone:  UTC\n",
       "H2O_cluster_version:        3.36.0.3\n",
       "H2O_cluster_version_age:    1 month and 1 day\n",
       "H2O_cluster_name:           H2O_from_python_yasamanemami_95ts5y\n",
       "H2O_cluster_total_nodes:    1\n",
       "H2O_cluster_free_memory:    3.556 Gb\n",
       "H2O_cluster_total_cores:    8\n",
       "H2O_cluster_allowed_cores:  8\n",
       "H2O_cluster_status:         locked, healthy\n",
       "H2O_connection_url:         http://127.0.0.1:54321\n",
       "H2O_connection_proxy:       {\"http\": null, \"https\": null}\n",
       "H2O_internal_security:      False\n",
       "Python_version:             3.9.6 final\n",
       "--------------------------  -----------------------------------"
      ]
     },
     "metadata": {},
     "output_type": "display_data"
    }
   ],
   "source": [
    "h2o.init()"
   ]
  },
  {
   "cell_type": "code",
   "execution_count": 5,
   "id": "68a3794f-4ced-43a2-bf5f-7ad3a16617c4",
   "metadata": {
    "execution": {
     "iopub.execute_input": "2022-03-18T22:14:04.481038Z",
     "iopub.status.busy": "2022-03-18T22:14:04.480721Z",
     "iopub.status.idle": "2022-03-18T22:14:05.054720Z",
     "shell.execute_reply": "2022-03-18T22:14:05.053774Z",
     "shell.execute_reply.started": "2022-03-18T22:14:04.481006Z"
    },
    "tags": []
   },
   "outputs": [
    {
     "name": "stdout",
     "output_type": "stream",
     "text": [
      "Parse progress: |████████████████████████████████████████████████████████████████| (done) 100%\n"
     ]
    }
   ],
   "source": [
    "frame = h2o.H2OFrame(df)"
   ]
  },
  {
   "cell_type": "code",
   "execution_count": 6,
   "id": "003710bf-2897-434a-8358-b291389ee28a",
   "metadata": {
    "execution": {
     "iopub.execute_input": "2022-03-18T22:14:05.057269Z",
     "iopub.status.busy": "2022-03-18T22:14:05.056896Z",
     "iopub.status.idle": "2022-03-18T22:14:05.722822Z",
     "shell.execute_reply": "2022-03-18T22:14:05.722001Z",
     "shell.execute_reply.started": "2022-03-18T22:14:05.057228Z"
    },
    "tags": []
   },
   "outputs": [
    {
     "name": "stdout",
     "output_type": "stream",
     "text": [
      "Checking whether there is an H2O instance running at http://localhost:54321 . connected.\n"
     ]
    },
    {
     "data": {
      "text/html": [
       "<div style=\"overflow:auto\"><table style=\"width:50%\"><tr><td>H2O_cluster_uptime:</td>\n",
       "<td>03 secs</td></tr>\n",
       "<tr><td>H2O_cluster_timezone:</td>\n",
       "<td>America/Los_Angeles</td></tr>\n",
       "<tr><td>H2O_data_parsing_timezone:</td>\n",
       "<td>UTC</td></tr>\n",
       "<tr><td>H2O_cluster_version:</td>\n",
       "<td>3.36.0.3</td></tr>\n",
       "<tr><td>H2O_cluster_version_age:</td>\n",
       "<td>1 month and 1 day </td></tr>\n",
       "<tr><td>H2O_cluster_name:</td>\n",
       "<td>H2O_from_python_yasamanemami_95ts5y</td></tr>\n",
       "<tr><td>H2O_cluster_total_nodes:</td>\n",
       "<td>1</td></tr>\n",
       "<tr><td>H2O_cluster_free_memory:</td>\n",
       "<td>3.541 Gb</td></tr>\n",
       "<tr><td>H2O_cluster_total_cores:</td>\n",
       "<td>8</td></tr>\n",
       "<tr><td>H2O_cluster_allowed_cores:</td>\n",
       "<td>8</td></tr>\n",
       "<tr><td>H2O_cluster_status:</td>\n",
       "<td>locked, healthy</td></tr>\n",
       "<tr><td>H2O_connection_url:</td>\n",
       "<td>http://localhost:54321</td></tr>\n",
       "<tr><td>H2O_connection_proxy:</td>\n",
       "<td>{\"http\": null, \"https\": null}</td></tr>\n",
       "<tr><td>H2O_internal_security:</td>\n",
       "<td>False</td></tr>\n",
       "<tr><td>Python_version:</td>\n",
       "<td>3.9.6 final</td></tr></table></div>"
      ],
      "text/plain": [
       "--------------------------  -----------------------------------\n",
       "H2O_cluster_uptime:         03 secs\n",
       "H2O_cluster_timezone:       America/Los_Angeles\n",
       "H2O_data_parsing_timezone:  UTC\n",
       "H2O_cluster_version:        3.36.0.3\n",
       "H2O_cluster_version_age:    1 month and 1 day\n",
       "H2O_cluster_name:           H2O_from_python_yasamanemami_95ts5y\n",
       "H2O_cluster_total_nodes:    1\n",
       "H2O_cluster_free_memory:    3.541 Gb\n",
       "H2O_cluster_total_cores:    8\n",
       "H2O_cluster_allowed_cores:  8\n",
       "H2O_cluster_status:         locked, healthy\n",
       "H2O_connection_url:         http://localhost:54321\n",
       "H2O_connection_proxy:       {\"http\": null, \"https\": null}\n",
       "H2O_internal_security:      False\n",
       "Python_version:             3.9.6 final\n",
       "--------------------------  -----------------------------------"
      ]
     },
     "metadata": {},
     "output_type": "display_data"
    },
    {
     "name": "stdout",
     "output_type": "stream",
     "text": [
      "glm Model Build progress: |██████████████████████████████████████████████████████| (done) 100%\n",
      "Model Details\n",
      "=============\n",
      "H2OGeneralizedLinearEstimator :  Generalized Linear Modeling\n",
      "Model Key:  GLM_model_python_1647641641242_1\n",
      "\n",
      "\n",
      "GLM Model: summary\n"
     ]
    },
    {
     "data": {
      "text/html": [
       "<div>\n",
       "<style scoped>\n",
       "    .dataframe tbody tr th:only-of-type {\n",
       "        vertical-align: middle;\n",
       "    }\n",
       "\n",
       "    .dataframe tbody tr th {\n",
       "        vertical-align: top;\n",
       "    }\n",
       "\n",
       "    .dataframe thead th {\n",
       "        text-align: right;\n",
       "    }\n",
       "</style>\n",
       "<table border=\"1\" class=\"dataframe\">\n",
       "  <thead>\n",
       "    <tr style=\"text-align: right;\">\n",
       "      <th></th>\n",
       "      <th></th>\n",
       "      <th>family</th>\n",
       "      <th>link</th>\n",
       "      <th>regularization</th>\n",
       "      <th>number_of_predictors_total</th>\n",
       "      <th>number_of_active_predictors</th>\n",
       "      <th>number_of_iterations</th>\n",
       "      <th>training_frame</th>\n",
       "    </tr>\n",
       "  </thead>\n",
       "  <tbody>\n",
       "    <tr>\n",
       "      <th>0</th>\n",
       "      <td></td>\n",
       "      <td>gaussian</td>\n",
       "      <td>identity</td>\n",
       "      <td>Elastic Net (alpha = 0.5, lambda = 0.01354 )</td>\n",
       "      <td>13</td>\n",
       "      <td>12</td>\n",
       "      <td>1</td>\n",
       "      <td>Key_Frame__upload_897aa49470fd0169eefc1c0fe0474124.hex</td>\n",
       "    </tr>\n",
       "  </tbody>\n",
       "</table>\n",
       "</div>"
      ],
      "text/plain": [
       "       family      link                                regularization  \\\n",
       "0    gaussian  identity  Elastic Net (alpha = 0.5, lambda = 0.01354 )   \n",
       "\n",
       "   number_of_predictors_total number_of_active_predictors  \\\n",
       "0                          13                          12   \n",
       "\n",
       "   number_of_iterations  \\\n",
       "0                     1   \n",
       "\n",
       "                                           training_frame  \n",
       "0  Key_Frame__upload_897aa49470fd0169eefc1c0fe0474124.hex  "
      ]
     },
     "metadata": {},
     "output_type": "display_data"
    },
    {
     "name": "stdout",
     "output_type": "stream",
     "text": [
      "\n",
      "\n",
      "ModelMetricsRegressionGLM: glm\n",
      "** Reported on train data. **\n",
      "\n",
      "MSE: 21.91833259423534\n",
      "RMSE: 4.681701890790927\n",
      "MAE: 3.2578024709180364\n",
      "RMSLE: NaN\n",
      "R^2: 0.7403642770174387\n",
      "Mean Residual Deviance: 21.91833259423534\n",
      "Null degrees of freedom: 505\n",
      "Residual degrees of freedom: 493\n",
      "Null deviance: 42716.29560554641\n",
      "Residual deviance: 11090.676292683083\n",
      "AIC: 3026.1514316542007\n",
      "\n",
      "Scoring History: \n"
     ]
    },
    {
     "data": {
      "text/html": [
       "<div>\n",
       "<style scoped>\n",
       "    .dataframe tbody tr th:only-of-type {\n",
       "        vertical-align: middle;\n",
       "    }\n",
       "\n",
       "    .dataframe tbody tr th {\n",
       "        vertical-align: top;\n",
       "    }\n",
       "\n",
       "    .dataframe thead th {\n",
       "        text-align: right;\n",
       "    }\n",
       "</style>\n",
       "<table border=\"1\" class=\"dataframe\">\n",
       "  <thead>\n",
       "    <tr style=\"text-align: right;\">\n",
       "      <th></th>\n",
       "      <th></th>\n",
       "      <th>timestamp</th>\n",
       "      <th>duration</th>\n",
       "      <th>iterations</th>\n",
       "      <th>negative_log_likelihood</th>\n",
       "      <th>objective</th>\n",
       "      <th>training_rmse</th>\n",
       "      <th>training_deviance</th>\n",
       "      <th>training_mae</th>\n",
       "      <th>training_r2</th>\n",
       "    </tr>\n",
       "  </thead>\n",
       "  <tbody>\n",
       "    <tr>\n",
       "      <th>0</th>\n",
       "      <td></td>\n",
       "      <td>2022-03-18 15:14:05</td>\n",
       "      <td>0.000 sec</td>\n",
       "      <td>0</td>\n",
       "      <td>42716.295415</td>\n",
       "      <td>84.419556</td>\n",
       "      <td></td>\n",
       "      <td></td>\n",
       "      <td></td>\n",
       "      <td></td>\n",
       "    </tr>\n",
       "    <tr>\n",
       "      <th>1</th>\n",
       "      <td></td>\n",
       "      <td>2022-03-18 15:14:05</td>\n",
       "      <td>0.056 sec</td>\n",
       "      <td>1</td>\n",
       "      <td></td>\n",
       "      <td></td>\n",
       "      <td>4.681702</td>\n",
       "      <td>21.918333</td>\n",
       "      <td>3.257802</td>\n",
       "      <td>0.740364</td>\n",
       "    </tr>\n",
       "  </tbody>\n",
       "</table>\n",
       "</div>"
      ],
      "text/plain": [
       "               timestamp    duration  iterations negative_log_likelihood  \\\n",
       "0    2022-03-18 15:14:05   0.000 sec           0            42716.295415   \n",
       "1    2022-03-18 15:14:05   0.056 sec           1                           \n",
       "\n",
       "   objective training_rmse training_deviance training_mae training_r2  \n",
       "0  84.419556                                                           \n",
       "1                 4.681702         21.918333     3.257802    0.740364  "
      ]
     },
     "metadata": {},
     "output_type": "display_data"
    },
    {
     "name": "stdout",
     "output_type": "stream",
     "text": [
      "\n",
      "Variable Importances: \n"
     ]
    },
    {
     "data": {
      "text/html": [
       "<div>\n",
       "<style scoped>\n",
       "    .dataframe tbody tr th:only-of-type {\n",
       "        vertical-align: middle;\n",
       "    }\n",
       "\n",
       "    .dataframe tbody tr th {\n",
       "        vertical-align: top;\n",
       "    }\n",
       "\n",
       "    .dataframe thead th {\n",
       "        text-align: right;\n",
       "    }\n",
       "</style>\n",
       "<table border=\"1\" class=\"dataframe\">\n",
       "  <thead>\n",
       "    <tr style=\"text-align: right;\">\n",
       "      <th></th>\n",
       "      <th>variable</th>\n",
       "      <th>relative_importance</th>\n",
       "      <th>scaled_importance</th>\n",
       "      <th>percentage</th>\n",
       "    </tr>\n",
       "  </thead>\n",
       "  <tbody>\n",
       "    <tr>\n",
       "      <th>0</th>\n",
       "      <td>LSTAT</td>\n",
       "      <td>3.699915</td>\n",
       "      <td>1.000000</td>\n",
       "      <td>0.177362</td>\n",
       "    </tr>\n",
       "    <tr>\n",
       "      <th>1</th>\n",
       "      <td>DIS</td>\n",
       "      <td>2.982872</td>\n",
       "      <td>0.806200</td>\n",
       "      <td>0.142989</td>\n",
       "    </tr>\n",
       "    <tr>\n",
       "      <th>2</th>\n",
       "      <td>RM</td>\n",
       "      <td>2.710015</td>\n",
       "      <td>0.732453</td>\n",
       "      <td>0.129909</td>\n",
       "    </tr>\n",
       "    <tr>\n",
       "      <th>3</th>\n",
       "      <td>RAD</td>\n",
       "      <td>2.329185</td>\n",
       "      <td>0.629524</td>\n",
       "      <td>0.111653</td>\n",
       "    </tr>\n",
       "    <tr>\n",
       "      <th>4</th>\n",
       "      <td>PTRATIO</td>\n",
       "      <td>2.022126</td>\n",
       "      <td>0.546533</td>\n",
       "      <td>0.096934</td>\n",
       "    </tr>\n",
       "    <tr>\n",
       "      <th>5</th>\n",
       "      <td>NOX</td>\n",
       "      <td>1.922189</td>\n",
       "      <td>0.519522</td>\n",
       "      <td>0.092143</td>\n",
       "    </tr>\n",
       "    <tr>\n",
       "      <th>6</th>\n",
       "      <td>TAX</td>\n",
       "      <td>1.761469</td>\n",
       "      <td>0.476084</td>\n",
       "      <td>0.084439</td>\n",
       "    </tr>\n",
       "    <tr>\n",
       "      <th>7</th>\n",
       "      <td>ZN</td>\n",
       "      <td>1.005702</td>\n",
       "      <td>0.271818</td>\n",
       "      <td>0.048210</td>\n",
       "    </tr>\n",
       "    <tr>\n",
       "      <th>8</th>\n",
       "      <td>CRIM</td>\n",
       "      <td>0.884470</td>\n",
       "      <td>0.239051</td>\n",
       "      <td>0.042399</td>\n",
       "    </tr>\n",
       "    <tr>\n",
       "      <th>9</th>\n",
       "      <td>B</td>\n",
       "      <td>0.841713</td>\n",
       "      <td>0.227495</td>\n",
       "      <td>0.040349</td>\n",
       "    </tr>\n",
       "    <tr>\n",
       "      <th>10</th>\n",
       "      <td>CHAS</td>\n",
       "      <td>0.693786</td>\n",
       "      <td>0.187514</td>\n",
       "      <td>0.033258</td>\n",
       "    </tr>\n",
       "    <tr>\n",
       "      <th>11</th>\n",
       "      <td>INDUS</td>\n",
       "      <td>0.007411</td>\n",
       "      <td>0.002003</td>\n",
       "      <td>0.000355</td>\n",
       "    </tr>\n",
       "    <tr>\n",
       "      <th>12</th>\n",
       "      <td>AGE</td>\n",
       "      <td>0.000000</td>\n",
       "      <td>0.000000</td>\n",
       "      <td>0.000000</td>\n",
       "    </tr>\n",
       "  </tbody>\n",
       "</table>\n",
       "</div>"
      ],
      "text/plain": [
       "   variable  relative_importance  scaled_importance  percentage\n",
       "0     LSTAT             3.699915           1.000000    0.177362\n",
       "1       DIS             2.982872           0.806200    0.142989\n",
       "2        RM             2.710015           0.732453    0.129909\n",
       "3       RAD             2.329185           0.629524    0.111653\n",
       "4   PTRATIO             2.022126           0.546533    0.096934\n",
       "5       NOX             1.922189           0.519522    0.092143\n",
       "6       TAX             1.761469           0.476084    0.084439\n",
       "7        ZN             1.005702           0.271818    0.048210\n",
       "8      CRIM             0.884470           0.239051    0.042399\n",
       "9         B             0.841713           0.227495    0.040349\n",
       "10     CHAS             0.693786           0.187514    0.033258\n",
       "11    INDUS             0.007411           0.002003    0.000355\n",
       "12      AGE             0.000000           0.000000    0.000000"
      ]
     },
     "metadata": {},
     "output_type": "display_data"
    },
    {
     "data": {
      "text/plain": []
     },
     "execution_count": 6,
     "metadata": {},
     "output_type": "execute_result"
    }
   ],
   "source": [
    "from h2o.estimators.glm import H2OGeneralizedLinearEstimator\n",
    "h2o.init()\n",
    "gaussian_fit = H2OGeneralizedLinearEstimator(family =\n",
    "\"gaussian\")\n",
    "gaussian_fit.train(y = \"MEDV\", x = [\"CRIM\", \"ZN\", \"INDUS\", \"CHAS\", \"NOX\", \"RM\", \"AGE\", \"DIS\", \"RAD\", \"TAX\", \"PTRATIO\", \"B\", \"LSTAT\"], training_frame = frame)"
   ]
  },
  {
   "cell_type": "code",
   "execution_count": 31,
   "id": "196beedf-56b1-476e-98fa-85557f3f3d60",
   "metadata": {
    "execution": {
     "iopub.execute_input": "2022-03-18T22:34:59.665275Z",
     "iopub.status.busy": "2022-03-18T22:34:59.664724Z",
     "iopub.status.idle": "2022-03-18T22:34:59.671219Z",
     "shell.execute_reply": "2022-03-18T22:34:59.670193Z",
     "shell.execute_reply.started": "2022-03-18T22:34:59.665244Z"
    },
    "tags": []
   },
   "outputs": [
    {
     "name": "stdout",
     "output_type": "stream",
     "text": [
      "CRIM: -0.10283\n",
      "ZN: 0.04312\n",
      "INDUS: 0.00108\n",
      "CHAS: 2.73151\n",
      "NOX: -16.58809\n",
      "RM: 3.85703\n",
      "AGE: 0.00000\n",
      "DIS: -1.41656\n",
      "RAD: 0.26750\n",
      "TAX: -0.01045\n",
      "PTRATIO: -0.93403\n",
      "B: 0.00922\n",
      "LSTAT: -0.51812\n",
      "\n",
      "y-intercept: 34.77\n"
     ]
    }
   ],
   "source": [
    "for i, name in enumerate(df.columns[:-1]):\n",
    "    print(f'{name}: {gaussian_fit.coef()[name]:.5f}')\n",
    "\n",
    "print()\n",
    "print(f'y-intercept: {gaussian_fit.coef()[\"Intercept\"]:.2f}')"
   ]
  },
  {
   "cell_type": "code",
   "execution_count": null,
   "id": "9aadce9c-3f4a-4512-856f-8d51935a3b29",
   "metadata": {},
   "outputs": [],
   "source": []
  }
 ],
 "metadata": {
  "kernelspec": {
   "display_name": "Python 3 (ipykernel)",
   "language": "python",
   "name": "python3"
  },
  "language_info": {
   "codemirror_mode": {
    "name": "ipython",
    "version": 3
   },
   "file_extension": ".py",
   "mimetype": "text/x-python",
   "name": "python",
   "nbconvert_exporter": "python",
   "pygments_lexer": "ipython3",
   "version": "3.9.6"
  }
 },
 "nbformat": 4,
 "nbformat_minor": 5
}
